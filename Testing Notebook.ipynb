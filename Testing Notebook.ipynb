{
 "cells": [
  {
   "cell_type": "markdown",
   "metadata": {},
   "source": [
    "# Arbor Events Class Testing"
   ]
  },
  {
   "cell_type": "code",
   "execution_count": 1,
   "metadata": {},
   "outputs": [],
   "source": [
    "from azure.identity import InteractiveBrowserCredential\n",
    "from azure.keyvault.secrets import SecretClient\n",
    "from arbor_events import ArborEvents"
   ]
  },
  {
   "cell_type": "code",
   "execution_count": 2,
   "metadata": {},
   "outputs": [],
   "source": [
    "# Replace with url of Arbor instance\n",
    "academy_url = \"https://api-sandbox.uk.arbor.sc\"\n",
    "\n",
    "# Replace with your Key Vault URL\n",
    "key_vault_url = \"https://altakv01.vault.azure.net/\"\n",
    "\n",
    "# Create a credential using interactive browser authentication\n",
    "credential = InteractiveBrowserCredential(additionally_allowed_tenants=[\"23990c89-ae67-4afc-87ce-470c97afeb37\"])\n",
    "\n",
    "# Create a SecretClient using the credential and Key Vault URL\n",
    "secret_client = SecretClient(vault_url=key_vault_url, credential=credential)\n",
    "\n",
    "# Retrieve a secret from the Key Vault\n",
    "secret_name = \"Arbor-SchoolEvents\"\n",
    "secret = secret_client.get_secret(secret_name)\n",
    "\n"
   ]
  },
  {
   "cell_type": "code",
   "execution_count": 3,
   "metadata": {},
   "outputs": [],
   "source": [
    "arbor = None\n",
    "arbor = ArborEvents(academy_url, \"ALTSchoolEvents\", secret.value)"
   ]
  },
  {
   "cell_type": "code",
   "execution_count": 5,
   "metadata": {},
   "outputs": [
    {
     "name": "stdout",
     "output_type": "stream",
     "text": [
      "{'schoolEventType': {'entityType': 'SchoolEventType', 'code': 'MEETING', 'uniqueObjectId': '745-5', 'active': True, 'dataOrder': 0, 'id': 5, 'href': '/rest-v2/school-event-types/MEETING', 'schoolEventTypeName': 'Meeting', 'createdUser': {'href': '/rest-v2/users/1', 'entityType': 'User', 'uniqueObjectId': '50-1'}, 'createdDatetime': '2020-04-16 23:11:47.149096', 'modifiedUser': None, 'modifiedDatetime': None, 'userTags': []}}\n"
     ]
    }
   ],
   "source": [
    "response = arbor.get_event_type(\"MEETING\")\n",
    "print(response.json())"
   ]
  },
  {
   "cell_type": "code",
   "execution_count": 17,
   "metadata": {},
   "outputs": [
    {
     "name": "stdout",
     "output_type": "stream",
     "text": [
      "{'status': {'success': True, 'code': 201, 'status': 'OK'}, 'response': {'success': True, 'code': 201, 'status': 'OK'}, 'schoolEventType': {'entityType': 'SchoolEventType', 'href': '/rest-v2/school-event-types/BUS_HIRE'}}\n"
     ]
    }
   ],
   "source": [
    "response = arbor.create_event_type(\"BUS HIRE\", \"Mini Bus Hire\")\n",
    "print(response.json())"
   ]
  },
  {
   "cell_type": "code",
   "execution_count": 18,
   "metadata": {},
   "outputs": [
    {
     "name": "stdout",
     "output_type": "stream",
     "text": [
      "{'response': {'success': True, 'code': 200, 'status': 'OK'}, 'schoolEventType': {'entityType': 'SchoolEventType', 'href': '/rest-v2/school-event-types/BUS_HIRE'}}\n"
     ]
    }
   ],
   "source": [
    "response = arbor.disable_event_type(\"BUS_HIRE\")\n",
    "print(response.json())"
   ]
  },
  {
   "cell_type": "code",
   "execution_count": 19,
   "metadata": {},
   "outputs": [
    {
     "name": "stdout",
     "output_type": "stream",
     "text": [
      "{'response': {'success': True, 'code': 200, 'status': 'OK'}, 'schoolEventType': {'entityType': 'SchoolEventType', 'href': '/rest-v2/school-event-types/BUS_HIRE'}}\n"
     ]
    }
   ],
   "source": [
    "response = arbor.enable_event_type(\"BUS_HIRE\")\n",
    "print(response.json())"
   ]
  },
  {
   "cell_type": "code",
   "execution_count": 20,
   "metadata": {},
   "outputs": [
    {
     "name": "stdout",
     "output_type": "stream",
     "text": [
      "89\n"
     ]
    }
   ],
   "source": [
    "response = arbor.lookup_room_id(\"101\")\n",
    "print(response)"
   ]
  },
  {
   "cell_type": "code",
   "execution_count": 10,
   "metadata": {},
   "outputs": [
    {
     "name": "stdout",
     "output_type": "stream",
     "text": [
      "{'status': {'success': True, 'code': 201, 'status': 'OK'}, 'response': {'success': True, 'code': 201, 'status': 'OK'}, 'roomUnavailability': {'entityType': 'RoomUnavailability', 'href': '/rest-v2/room-unavailabilities/1'}}\n"
     ]
    }
   ],
   "source": [
    "response = arbor.create_room_unavailability(89, \"2024-12-27 17:00:00\", \"2024-12-27 18:00:00\", \"Room unavailable for cleaning\")\n",
    "print(response)"
   ]
  },
  {
   "cell_type": "code",
   "execution_count": 21,
   "metadata": {},
   "outputs": [
    {
     "name": "stdout",
     "output_type": "stream",
     "text": [
      "<Response [204]>\n"
     ]
    }
   ],
   "source": [
    "response = arbor.delete_event_type(\"BUS_HIRE\")\n",
    "print(response)"
   ]
  },
  {
   "cell_type": "code",
   "execution_count": 29,
   "metadata": {},
   "outputs": [
    {
     "name": "stdout",
     "output_type": "stream",
     "text": [
      "/rest-v2/school-event-types/BREAK\n",
      "/rest-v2/school-event-types/CLUB\n",
      "/rest-v2/school-event-types/EXTRA_CURRICULAR\n",
      "/rest-v2/school-event-types/GENERAL_EVENT\n",
      "/rest-v2/school-event-types/MEETING\n",
      "/rest-v2/school-event-types/PARENTS_EVENING\n",
      "/rest-v2/school-event-types/PPA\n",
      "/rest-v2/school-event-types/SPORTS_FIXTURE\n",
      "/rest-v2/school-event-types/URGENT_EVENT\n",
      "/rest-v2/school-event-types/WORKING_FROM_HOME\n",
      "/rest-v2/school-event-types/ON_CALL_ROTA\n"
     ]
    }
   ],
   "source": [
    "response = arbor.list_event_types()\n",
    "\n",
    "for et in response[\"schoolEventTypes\"]:\n",
    "    print(et[\"href\"])"
   ]
  },
  {
   "cell_type": "code",
   "execution_count": 30,
   "metadata": {},
   "outputs": [
    {
     "name": "stdout",
     "output_type": "stream",
     "text": [
      "203\n"
     ]
    }
   ],
   "source": [
    "response = arbor.lookup_email_owner_id(\"hneubert@archwaytrust.co.uk\")\n",
    "print(response)"
   ]
  },
  {
   "cell_type": "code",
   "execution_count": 31,
   "metadata": {},
   "outputs": [
    {
     "name": "stdout",
     "output_type": "stream",
     "text": [
      "89\n"
     ]
    }
   ],
   "source": [
    "response = arbor.lookup_room_id(\"101\")\n",
    "print(response)"
   ]
  },
  {
   "cell_type": "code",
   "execution_count": 32,
   "metadata": {},
   "outputs": [
    {
     "name": "stdout",
     "output_type": "stream",
     "text": [
      "/rest-v2/school-events/31\n"
     ]
    }
   ],
   "source": [
    "response = arbor.create_school_event(\"New Event\", \"2024-12-27 18:00:00\", \"2024-12-27 19:00:00\", \"MEETING\", 89, \"Love a good narrative.\")\n",
    "print(response)"
   ]
  },
  {
   "cell_type": "code",
   "execution_count": 33,
   "metadata": {},
   "outputs": [],
   "source": [
    "participant_response = arbor.add_event_participant(response, 203)"
   ]
  },
  {
   "cell_type": "code",
   "execution_count": 34,
   "metadata": {},
   "outputs": [
    {
     "name": "stdout",
     "output_type": "stream",
     "text": [
      "True\n"
     ]
    }
   ],
   "source": [
    "print(participant_response)"
   ]
  }
 ],
 "metadata": {
  "kernelspec": {
   "display_name": "Python 3",
   "language": "python",
   "name": "python3"
  },
  "language_info": {
   "codemirror_mode": {
    "name": "ipython",
    "version": 3
   },
   "file_extension": ".py",
   "mimetype": "text/x-python",
   "name": "python",
   "nbconvert_exporter": "python",
   "pygments_lexer": "ipython3",
   "version": "3.12.2"
  }
 },
 "nbformat": 4,
 "nbformat_minor": 2
}
