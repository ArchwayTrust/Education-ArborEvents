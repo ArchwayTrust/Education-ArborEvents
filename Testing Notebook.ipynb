{
 "cells": [
  {
   "cell_type": "markdown",
   "metadata": {},
   "source": [
    "# Arbor Events Class Testing"
   ]
  },
  {
   "cell_type": "code",
   "execution_count": 1,
   "metadata": {},
   "outputs": [],
   "source": [
    "from azure.identity import InteractiveBrowserCredential\n",
    "from azure.keyvault.secrets import SecretClient\n",
    "from arbor_events import ArborEvents"
   ]
  },
  {
   "cell_type": "code",
   "execution_count": 3,
   "metadata": {},
   "outputs": [],
   "source": [
    "# Replace with url of Arbor instance\n",
    "academy_url = \"https://api-sandbox2.uk.arbor.sc\"\n",
    "\n",
    "# Replace with your Key Vault URL\n",
    "key_vault_url = \"https://altakv01.vault.azure.net/\"\n",
    "\n",
    "# Create a credential using interactive browser authentication\n",
    "credential = InteractiveBrowserCredential(additionally_allowed_tenants=[\"23990c89-ae67-4afc-87ce-470c97afeb37\"])\n",
    "\n",
    "# Create a SecretClient using the credential and Key Vault URL\n",
    "secret_client = SecretClient(vault_url=key_vault_url, credential=credential)\n",
    "\n",
    "# Retrieve a secret from the Key Vault\n",
    "secret_name = \"ArborStaffUpdaterPassword\"\n",
    "secret = secret_client.get_secret(secret_name)\n",
    "\n"
   ]
  },
  {
   "cell_type": "code",
   "execution_count": 4,
   "metadata": {},
   "outputs": [],
   "source": [
    "arbor = None\n",
    "arbor = ArborEvents(academy_url, \"ALTStaffUpdater\", secret.value)"
   ]
  },
  {
   "cell_type": "code",
   "execution_count": null,
   "metadata": {},
   "outputs": [],
   "source": [
    "response = arbor.get_event_type(\"MEETING\")\n",
    "print(response)"
   ]
  },
  {
   "cell_type": "code",
   "execution_count": null,
   "metadata": {},
   "outputs": [],
   "source": [
    "response = arbor.create_event_type(\"BUS HIRE\", \"Mini Bus Hire\")\n",
    "print(response.json())"
   ]
  },
  {
   "cell_type": "code",
   "execution_count": null,
   "metadata": {},
   "outputs": [],
   "source": [
    "response = arbor.disable_event_type(\"BUS_HIRE\")\n",
    "print(response.json())"
   ]
  },
  {
   "cell_type": "code",
   "execution_count": null,
   "metadata": {},
   "outputs": [],
   "source": [
    "response = arbor.enable_event_type(\"BUS_HIRE\")\n",
    "print(response.json())"
   ]
  },
  {
   "cell_type": "code",
   "execution_count": null,
   "metadata": {},
   "outputs": [],
   "source": [
    "response = arbor.lookup_room_id(\"101\")\n",
    "print(response)"
   ]
  },
  {
   "cell_type": "code",
   "execution_count": null,
   "metadata": {},
   "outputs": [],
   "source": [
    "response = arbor.create_room_unavailability(89, \"2024-12-27 17:00:00\", \"2024-12-27 18:00:00\", \"Room unavailable for cleaning\")\n",
    "print(response)"
   ]
  },
  {
   "cell_type": "code",
   "execution_count": null,
   "metadata": {},
   "outputs": [],
   "source": [
    "response = arbor.delete_event_type(\"BUS_HIRE\")\n",
    "print(response)"
   ]
  },
  {
   "cell_type": "code",
   "execution_count": null,
   "metadata": {},
   "outputs": [],
   "source": [
    "response = arbor.list_event_types()\n",
    "print(response)"
   ]
  },
  {
   "cell_type": "code",
   "execution_count": null,
   "metadata": {},
   "outputs": [],
   "source": [
    "response = arbor.lookup_email_owner_id(\"hneubert@archwaytrust.co.uk\")\n",
    "print(response)"
   ]
  },
  {
   "cell_type": "code",
   "execution_count": null,
   "metadata": {},
   "outputs": [],
   "source": [
    "response = arbor.lookup_room_id(\"101\")\n",
    "print(response)"
   ]
  },
  {
   "cell_type": "code",
   "execution_count": null,
   "metadata": {},
   "outputs": [],
   "source": [
    "response = arbor.create_school_event(\"New Event\", \"2024-12-27 18:00:00\", \"2024-12-27 19:00:00\", \"MEETING\", 89, \"Love a good narrative.\")\n",
    "print(response)"
   ]
  },
  {
   "cell_type": "code",
   "execution_count": 6,
   "metadata": {},
   "outputs": [],
   "source": [
    "participant_response = arbor.add_event_participant(response, 401)"
   ]
  },
  {
   "cell_type": "code",
   "execution_count": null,
   "metadata": {},
   "outputs": [],
   "source": [
    "print(participant_response)"
   ]
  },
  {
   "cell_type": "code",
   "execution_count": null,
   "metadata": {},
   "outputs": [],
   "source": [
    "participant_response = arbor.add_event_participant(response, 407)\n",
    "print(participant_response)"
   ]
  }
 ],
 "metadata": {
  "kernelspec": {
   "display_name": "Python 3",
   "language": "python",
   "name": "python3"
  },
  "language_info": {
   "codemirror_mode": {
    "name": "ipython",
    "version": 3
   },
   "file_extension": ".py",
   "mimetype": "text/x-python",
   "name": "python",
   "nbconvert_exporter": "python",
   "pygments_lexer": "ipython3",
   "version": "3.12.2"
  }
 },
 "nbformat": 4,
 "nbformat_minor": 2
}
